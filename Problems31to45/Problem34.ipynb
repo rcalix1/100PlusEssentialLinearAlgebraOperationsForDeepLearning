{
 "cells": [
  {
   "cell_type": "code",
   "execution_count": 1,
   "id": "e7dea9f3-2ae4-43b7-8069-905bbe4e898b",
   "metadata": {},
   "outputs": [],
   "source": [
    "\n",
    "import numpy as np\n",
    "import matplotlib.pyplot as plt \n",
    "import torch\n"
   ]
  },
  {
   "cell_type": "code",
   "execution_count": null,
   "id": "751e19f7-5665-4f23-bfd7-61f731816d62",
   "metadata": {},
   "outputs": [],
   "source": [
    "\n",
    "\n"
   ]
  },
  {
   "cell_type": "code",
   "execution_count": 201,
   "id": "249b6294-64c6-4efe-99f9-e5d16dff8138",
   "metadata": {},
   "outputs": [
    {
     "name": "stdout",
     "output_type": "stream",
     "text": [
      "tensor([1., 1., 1., 1., 1.])\n",
      "1.0\n",
      "tensor([1.0000e+00, 1.0000e+00, 1.4560e+03, 1.0000e+00, 1.0000e+00])\n"
     ]
    }
   ],
   "source": [
    "\n",
    "a_tr = torch.ones(5)\n",
    "\n",
    "print( a_tr )\n",
    "\n",
    "print(    float(   a_tr[1]   )      )\n",
    "\n",
    "a_tr[2]  =  1456.0\n",
    "\n",
    "print(  a_tr  )\n"
   ]
  },
  {
   "cell_type": "code",
   "execution_count": null,
   "id": "938fc487-b072-4031-bfb8-a77fa620c9f6",
   "metadata": {},
   "outputs": [],
   "source": []
  },
  {
   "cell_type": "code",
   "execution_count": null,
   "id": "64c75142-831d-4010-8348-8ed2817f9abb",
   "metadata": {},
   "outputs": [],
   "source": []
  },
  {
   "cell_type": "code",
   "execution_count": null,
   "id": "1bf7e053-a2dd-4b00-90d6-0dc5400db119",
   "metadata": {},
   "outputs": [],
   "source": []
  },
  {
   "cell_type": "code",
   "execution_count": null,
   "id": "37d7c3b8-1f63-4b54-abb8-3db698693c18",
   "metadata": {},
   "outputs": [],
   "source": []
  },
  {
   "cell_type": "code",
   "execution_count": null,
   "id": "5252e27e-cf54-40ab-be95-8d5f487b5d28",
   "metadata": {},
   "outputs": [],
   "source": []
  },
  {
   "cell_type": "code",
   "execution_count": null,
   "id": "1807fe79-131c-42a8-acfc-2dd9db497f25",
   "metadata": {},
   "outputs": [],
   "source": []
  },
  {
   "cell_type": "code",
   "execution_count": null,
   "id": "fc4e8dba-fcab-4121-a792-2eac8dc4fdb5",
   "metadata": {},
   "outputs": [],
   "source": []
  },
  {
   "cell_type": "code",
   "execution_count": null,
   "id": "be6fbb2f-1065-421c-86ba-bda0ce28761a",
   "metadata": {},
   "outputs": [],
   "source": []
  },
  {
   "cell_type": "code",
   "execution_count": null,
   "id": "c0873174-7831-4ab6-9192-32a153e9974b",
   "metadata": {},
   "outputs": [],
   "source": []
  },
  {
   "cell_type": "code",
   "execution_count": null,
   "id": "01bb5a72-a913-44be-87a7-d223157e581b",
   "metadata": {},
   "outputs": [],
   "source": []
  },
  {
   "cell_type": "code",
   "execution_count": null,
   "id": "f43e65ba-ff0b-47d8-9532-5a875379ddca",
   "metadata": {},
   "outputs": [],
   "source": []
  },
  {
   "cell_type": "code",
   "execution_count": null,
   "id": "3ae98bc0-85ad-4951-bef0-49f2566a9d58",
   "metadata": {},
   "outputs": [],
   "source": []
  },
  {
   "cell_type": "code",
   "execution_count": null,
   "id": "fe53b62b-7b68-47c2-96ba-b3ab83f3d6d1",
   "metadata": {},
   "outputs": [],
   "source": []
  },
  {
   "cell_type": "code",
   "execution_count": null,
   "id": "c56024de-ea92-4045-bb77-c6b892b76655",
   "metadata": {},
   "outputs": [],
   "source": []
  }
 ],
 "metadata": {
  "kernelspec": {
   "display_name": "Python 3 (ipykernel)",
   "language": "python",
   "name": "python3"
  },
  "language_info": {
   "codemirror_mode": {
    "name": "ipython",
    "version": 3
   },
   "file_extension": ".py",
   "mimetype": "text/x-python",
   "name": "python",
   "nbconvert_exporter": "python",
   "pygments_lexer": "ipython3",
   "version": "3.9.18"
  }
 },
 "nbformat": 4,
 "nbformat_minor": 5
}
