{
 "cells": [
  {
   "cell_type": "code",
   "execution_count": 17,
   "id": "e7dea9f3-2ae4-43b7-8069-905bbe4e898b",
   "metadata": {},
   "outputs": [],
   "source": [
    "\n",
    "import numpy as np\n",
    "import matplotlib.pyplot as plt \n",
    "import torch\n",
    "from torch import nn\n",
    "import random\n",
    "\n",
    "from torch.nn import functional as F\n"
   ]
  },
  {
   "cell_type": "code",
   "execution_count": null,
   "id": "8df919d8-2a1a-4fba-a5f5-5991bc420751",
   "metadata": {},
   "outputs": [],
   "source": []
  },
  {
   "cell_type": "code",
   "execution_count": 24,
   "id": "d2e68e41-f98b-4eb2-9471-d5ff3cb8ce67",
   "metadata": {},
   "outputs": [
    {
     "name": "stdout",
     "output_type": "stream",
     "text": [
      "torch.Size([512, 64])\n",
      "torch.Size([40, 64])\n",
      "torch.Size([8, 40, 64])\n",
      "torch.Size([8, 40, 64])\n"
     ]
    }
   ],
   "source": [
    "\n",
    "N = 8\n",
    "\n",
    "x = torch.randn(N, 40, 512)\n",
    "\n",
    "wq = torch.randn(512, 64)\n",
    "print( wq.shape )\n",
    "\n",
    "\n",
    "bq = torch.randn(  40, 64  )\n",
    "print( bq.shape )\n",
    "\n",
    "\n",
    "Q = torch.matmul(  x, wq  ) \n",
    "print( Q.shape ) \n",
    "\n",
    "\n",
    "Q = Q + bq\n",
    "print( Q.shape )\n",
    "\n",
    "\n"
   ]
  },
  {
   "cell_type": "code",
   "execution_count": null,
   "id": "3c5ad51c-4a70-47da-a75f-5775550fa0d0",
   "metadata": {},
   "outputs": [],
   "source": []
  },
  {
   "cell_type": "code",
   "execution_count": null,
   "id": "cfcc5036-c900-493f-94ce-6d18e8987ff1",
   "metadata": {},
   "outputs": [],
   "source": []
  },
  {
   "cell_type": "code",
   "execution_count": null,
   "id": "547b22fc-afed-4a61-bf7a-9549e90e0c9f",
   "metadata": {},
   "outputs": [],
   "source": []
  },
  {
   "cell_type": "code",
   "execution_count": null,
   "id": "01bb5a72-a913-44be-87a7-d223157e581b",
   "metadata": {},
   "outputs": [],
   "source": []
  },
  {
   "cell_type": "code",
   "execution_count": null,
   "id": "f43e65ba-ff0b-47d8-9532-5a875379ddca",
   "metadata": {},
   "outputs": [],
   "source": []
  },
  {
   "cell_type": "code",
   "execution_count": null,
   "id": "3ae98bc0-85ad-4951-bef0-49f2566a9d58",
   "metadata": {},
   "outputs": [],
   "source": []
  },
  {
   "cell_type": "code",
   "execution_count": null,
   "id": "fe53b62b-7b68-47c2-96ba-b3ab83f3d6d1",
   "metadata": {},
   "outputs": [],
   "source": []
  },
  {
   "cell_type": "code",
   "execution_count": null,
   "id": "c56024de-ea92-4045-bb77-c6b892b76655",
   "metadata": {},
   "outputs": [],
   "source": []
  }
 ],
 "metadata": {
  "kernelspec": {
   "display_name": "Python 3 (ipykernel)",
   "language": "python",
   "name": "python3"
  },
  "language_info": {
   "codemirror_mode": {
    "name": "ipython",
    "version": 3
   },
   "file_extension": ".py",
   "mimetype": "text/x-python",
   "name": "python",
   "nbconvert_exporter": "python",
   "pygments_lexer": "ipython3",
   "version": "3.9.18"
  }
 },
 "nbformat": 4,
 "nbformat_minor": 5
}
