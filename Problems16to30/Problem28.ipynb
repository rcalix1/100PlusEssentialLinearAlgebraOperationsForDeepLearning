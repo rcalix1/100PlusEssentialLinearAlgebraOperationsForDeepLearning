{
 "cells": [
  {
   "cell_type": "code",
   "execution_count": 1,
   "id": "e7dea9f3-2ae4-43b7-8069-905bbe4e898b",
   "metadata": {},
   "outputs": [],
   "source": [
    "\n",
    "import numpy as np\n",
    "import matplotlib.pyplot as plt \n",
    "import torch\n"
   ]
  },
  {
   "cell_type": "code",
   "execution_count": null,
   "id": "751e19f7-5665-4f23-bfd7-61f731816d62",
   "metadata": {},
   "outputs": [],
   "source": [
    "\n",
    "\n"
   ]
  },
  {
   "cell_type": "code",
   "execution_count": 107,
   "id": "a18b3ddb-5282-4156-8f62-7d2c43c10c65",
   "metadata": {},
   "outputs": [
    {
     "data": {
      "text/plain": [
       "array([1, 2, 3, 4, 5])"
      ]
     },
     "execution_count": 107,
     "metadata": {},
     "output_type": "execute_result"
    }
   ],
   "source": [
    "\n",
    "x = np.array( [1, 2, 3, 4, 5] )\n",
    "\n",
    "x           \n",
    " "
   ]
  },
  {
   "cell_type": "code",
   "execution_count": 108,
   "id": "2be76fc5-d90f-43d1-bf4a-60c4f812b192",
   "metadata": {},
   "outputs": [
    {
     "data": {
      "text/plain": [
       "15"
      ]
     },
     "execution_count": 108,
     "metadata": {},
     "output_type": "execute_result"
    }
   ],
   "source": [
    "\n",
    "np.add.reduce(x) \n"
   ]
  },
  {
   "cell_type": "code",
   "execution_count": 109,
   "id": "e8be6706-3cba-4bdc-8665-fdc5b664e7bc",
   "metadata": {},
   "outputs": [
    {
     "data": {
      "text/plain": [
       "120"
      ]
     },
     "execution_count": 109,
     "metadata": {},
     "output_type": "execute_result"
    }
   ],
   "source": [
    "\n",
    "np.multiply.reduce(x) \n"
   ]
  },
  {
   "cell_type": "code",
   "execution_count": 110,
   "id": "51d971a6-8393-4a55-bb1e-19302bbc6f10",
   "metadata": {},
   "outputs": [
    {
     "data": {
      "text/plain": [
       "15"
      ]
     },
     "execution_count": 110,
     "metadata": {},
     "output_type": "execute_result"
    }
   ],
   "source": [
    "\n",
    "np.sum(x)\n"
   ]
  },
  {
   "cell_type": "code",
   "execution_count": 111,
   "id": "f0247905-2c0f-4734-8a88-1d0c82ee9376",
   "metadata": {},
   "outputs": [
    {
     "data": {
      "text/plain": [
       "1"
      ]
     },
     "execution_count": 111,
     "metadata": {},
     "output_type": "execute_result"
    }
   ],
   "source": [
    "\n",
    "np.min(x)\n"
   ]
  },
  {
   "cell_type": "code",
   "execution_count": 112,
   "id": "95f76236-24c3-4537-96c8-11ec7d437c4f",
   "metadata": {},
   "outputs": [
    {
     "data": {
      "text/plain": [
       "5"
      ]
     },
     "execution_count": 112,
     "metadata": {},
     "output_type": "execute_result"
    }
   ],
   "source": [
    "\n",
    "np.max(x) \n"
   ]
  },
  {
   "cell_type": "code",
   "execution_count": null,
   "id": "4061bab2-34b9-4661-91cf-c8ea08661287",
   "metadata": {},
   "outputs": [],
   "source": []
  },
  {
   "cell_type": "code",
   "execution_count": null,
   "id": "45d1daec-9314-4fa0-b0d4-d9ef0a1cbba2",
   "metadata": {},
   "outputs": [],
   "source": []
  },
  {
   "cell_type": "code",
   "execution_count": null,
   "id": "c0a2c21a-4dc6-4c7f-9627-0ed2e5597859",
   "metadata": {},
   "outputs": [],
   "source": []
  },
  {
   "cell_type": "code",
   "execution_count": null,
   "id": "e2dccd33-e88a-49bb-9bfc-3cf19366b738",
   "metadata": {},
   "outputs": [],
   "source": []
  },
  {
   "cell_type": "code",
   "execution_count": null,
   "id": "938fc487-b072-4031-bfb8-a77fa620c9f6",
   "metadata": {},
   "outputs": [],
   "source": []
  },
  {
   "cell_type": "code",
   "execution_count": null,
   "id": "fe53b62b-7b68-47c2-96ba-b3ab83f3d6d1",
   "metadata": {},
   "outputs": [],
   "source": []
  },
  {
   "cell_type": "code",
   "execution_count": null,
   "id": "c56024de-ea92-4045-bb77-c6b892b76655",
   "metadata": {},
   "outputs": [],
   "source": []
  }
 ],
 "metadata": {
  "kernelspec": {
   "display_name": "Python 3 (ipykernel)",
   "language": "python",
   "name": "python3"
  },
  "language_info": {
   "codemirror_mode": {
    "name": "ipython",
    "version": 3
   },
   "file_extension": ".py",
   "mimetype": "text/x-python",
   "name": "python",
   "nbconvert_exporter": "python",
   "pygments_lexer": "ipython3",
   "version": "3.9.18"
  }
 },
 "nbformat": 4,
 "nbformat_minor": 5
}
