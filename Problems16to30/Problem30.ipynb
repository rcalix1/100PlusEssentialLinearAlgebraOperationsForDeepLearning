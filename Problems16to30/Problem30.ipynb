{
 "cells": [
  {
   "cell_type": "code",
   "execution_count": 1,
   "id": "e7dea9f3-2ae4-43b7-8069-905bbe4e898b",
   "metadata": {},
   "outputs": [],
   "source": [
    "\n",
    "import numpy as np\n",
    "import matplotlib.pyplot as plt \n",
    "import torch\n"
   ]
  },
  {
   "cell_type": "code",
   "execution_count": null,
   "id": "751e19f7-5665-4f23-bfd7-61f731816d62",
   "metadata": {},
   "outputs": [],
   "source": [
    "\n",
    "\n"
   ]
  },
  {
   "cell_type": "code",
   "execution_count": 127,
   "id": "a18b3ddb-5282-4156-8f62-7d2c43c10c65",
   "metadata": {},
   "outputs": [
    {
     "data": {
      "text/plain": [
       "array([[1., 1., 1.],\n",
       "       [1., 1., 1.],\n",
       "       [1., 1., 1.]])"
      ]
     },
     "execution_count": 127,
     "metadata": {},
     "output_type": "execute_result"
    }
   ],
   "source": [
    "\n",
    "\n",
    "m = np.array(\n",
    "    [[1., 1., 1.],\n",
    "     [1., 1., 1.],\n",
    "     [1., 1., 1.]]\n",
    ")\n",
    "\n",
    "m\n",
    "\n",
    " "
   ]
  },
  {
   "cell_type": "code",
   "execution_count": 128,
   "id": "7f349da2-0439-403f-baad-8902820fa8fa",
   "metadata": {},
   "outputs": [
    {
     "data": {
      "text/plain": [
       "array([0, 1, 2])"
      ]
     },
     "execution_count": 128,
     "metadata": {},
     "output_type": "execute_result"
    }
   ],
   "source": [
    "\n",
    "a = np.array(\n",
    "    [0, 1, 2]\n",
    ")\n",
    "\n",
    "a\n"
   ]
  },
  {
   "cell_type": "code",
   "execution_count": 129,
   "id": "fdf71d4d-27b7-4cb6-a028-ffc8f20d5699",
   "metadata": {},
   "outputs": [
    {
     "data": {
      "text/plain": [
       "array([[1., 2., 3.],\n",
       "       [1., 2., 3.],\n",
       "       [1., 2., 3.]])"
      ]
     },
     "execution_count": 129,
     "metadata": {},
     "output_type": "execute_result"
    }
   ],
   "source": [
    "\n",
    "m + a\n"
   ]
  },
  {
   "cell_type": "markdown",
   "id": "c7e24781-fcf8-496d-a1dc-bc8afdfeedc4",
   "metadata": {},
   "source": [
    "\n",
    "## Other\n"
   ]
  },
  {
   "cell_type": "code",
   "execution_count": 130,
   "id": "82202d8b-1b61-4e2b-9723-36916710e356",
   "metadata": {},
   "outputs": [
    {
     "data": {
      "text/plain": [
       "array([[0],\n",
       "       [1],\n",
       "       [2]])"
      ]
     },
     "execution_count": 130,
     "metadata": {},
     "output_type": "execute_result"
    }
   ],
   "source": [
    "\n",
    "a = a[:, np.newaxis]\n",
    "\n",
    "a\n"
   ]
  },
  {
   "cell_type": "code",
   "execution_count": 131,
   "id": "76d86164-a55e-4564-8ca4-bf4af4ce9a4d",
   "metadata": {},
   "outputs": [
    {
     "data": {
      "text/plain": [
       "array([[1., 1., 1.],\n",
       "       [2., 2., 2.],\n",
       "       [3., 3., 3.]])"
      ]
     },
     "execution_count": 131,
     "metadata": {},
     "output_type": "execute_result"
    }
   ],
   "source": [
    "\n",
    "m + a\n"
   ]
  },
  {
   "cell_type": "markdown",
   "id": "02dd9675-b8ef-44a4-bbcb-49c6309cb927",
   "metadata": {},
   "source": [
    "\n",
    "## Other\n"
   ]
  },
  {
   "cell_type": "code",
   "execution_count": 133,
   "id": "f1794c52-100e-43ef-a8a2-78c88a7b65ae",
   "metadata": {},
   "outputs": [
    {
     "data": {
      "text/plain": [
       "array([1, 1, 1])"
      ]
     },
     "execution_count": 133,
     "metadata": {},
     "output_type": "execute_result"
    }
   ],
   "source": [
    "\n",
    "v1 = np.array( [1, 1, 1] )\n",
    "v1\n"
   ]
  },
  {
   "cell_type": "code",
   "execution_count": 134,
   "id": "659d579f-ec14-4ad1-ba71-27c5dabf771d",
   "metadata": {},
   "outputs": [
    {
     "data": {
      "text/plain": [
       "array([[0],\n",
       "       [1],\n",
       "       [2]])"
      ]
     },
     "execution_count": 134,
     "metadata": {},
     "output_type": "execute_result"
    }
   ],
   "source": [
    "\n",
    "v2 =  np.array( [[0],\n",
    "                 [1],\n",
    "                 [2]]\n",
    "              )\n",
    "v2\n"
   ]
  },
  {
   "cell_type": "code",
   "execution_count": 135,
   "id": "6d8451f0-0e77-4b74-9a27-83b4eb56b4e7",
   "metadata": {},
   "outputs": [
    {
     "data": {
      "text/plain": [
       "array([[1, 1, 1],\n",
       "       [2, 2, 2],\n",
       "       [3, 3, 3]])"
      ]
     },
     "execution_count": 135,
     "metadata": {},
     "output_type": "execute_result"
    }
   ],
   "source": [
    "\n",
    "v1 + v2\n"
   ]
  },
  {
   "cell_type": "code",
   "execution_count": 136,
   "id": "2145b31e-a9f5-4d7f-9820-835849dea8e8",
   "metadata": {},
   "outputs": [
    {
     "data": {
      "text/plain": [
       "array([[0, 0, 0],\n",
       "       [1, 1, 1],\n",
       "       [2, 2, 2]])"
      ]
     },
     "execution_count": 136,
     "metadata": {},
     "output_type": "execute_result"
    }
   ],
   "source": [
    "\n",
    "v1 * v2\n"
   ]
  },
  {
   "cell_type": "code",
   "execution_count": 137,
   "id": "c73557f6-6429-4d09-aa8f-dae59fa57188",
   "metadata": {},
   "outputs": [
    {
     "data": {
      "text/plain": [
       "array([[1., 1., 1.],\n",
       "       [1., 1., 1.],\n",
       "       [1., 1., 1.]])"
      ]
     },
     "execution_count": 137,
     "metadata": {},
     "output_type": "execute_result"
    }
   ],
   "source": [
    "\n",
    "m\n"
   ]
  },
  {
   "cell_type": "code",
   "execution_count": 138,
   "id": "088eb833-c250-48af-a360-df5cb509a346",
   "metadata": {},
   "outputs": [],
   "source": [
    "\n",
    "zz = v1 * v2\n"
   ]
  },
  {
   "cell_type": "code",
   "execution_count": 141,
   "id": "b268e355-c88e-4b20-a3b9-4efcbdd9d6cf",
   "metadata": {},
   "outputs": [
    {
     "data": {
      "text/plain": [
       "array([[0., 0., 0.],\n",
       "       [1., 1., 1.],\n",
       "       [2., 2., 2.]])"
      ]
     },
     "execution_count": 141,
     "metadata": {},
     "output_type": "execute_result"
    }
   ],
   "source": [
    "\n",
    "m * zz\n"
   ]
  },
  {
   "cell_type": "markdown",
   "id": "25663ba3-6bc3-4f8b-b171-9a3520e93bee",
   "metadata": {},
   "source": [
    "\n",
    "## Other\n"
   ]
  },
  {
   "cell_type": "code",
   "execution_count": 171,
   "id": "183b2752-7ae4-4543-815b-87fecd670c6b",
   "metadata": {},
   "outputs": [],
   "source": [
    "\n",
    "v1 = np.array(  [1, 1, 1],\n",
    "             \n",
    "             )\n",
    "v1\n",
    "\n",
    "v1 = v1[ :, np.newaxis]"
   ]
  },
  {
   "cell_type": "code",
   "execution_count": 172,
   "id": "d69453fa-7f0d-4104-95ff-f153e9f23f98",
   "metadata": {},
   "outputs": [
    {
     "name": "stdout",
     "output_type": "stream",
     "text": [
      "(3, 1)\n"
     ]
    }
   ],
   "source": [
    "\n",
    "print( v1.shape )\n"
   ]
  },
  {
   "cell_type": "code",
   "execution_count": 173,
   "id": "2a5d3f68-581c-443c-9aee-64389e7961b6",
   "metadata": {},
   "outputs": [
    {
     "name": "stdout",
     "output_type": "stream",
     "text": [
      "(3,)\n"
     ]
    }
   ],
   "source": [
    "\n",
    "v2 = np.array( [0, 1, 2])\n",
    "print( v2.shape )\n"
   ]
  },
  {
   "cell_type": "code",
   "execution_count": 174,
   "id": "7f3f8936-cc8a-4a79-8128-dc6a1a6543df",
   "metadata": {},
   "outputs": [
    {
     "name": "stdout",
     "output_type": "stream",
     "text": [
      "(1, 3)\n"
     ]
    }
   ],
   "source": [
    "\n",
    "v2 = v2[np.newaxis, :]\n",
    "print( v2.shape )\n"
   ]
  },
  {
   "cell_type": "code",
   "execution_count": 175,
   "id": "3b404b02-93cf-410d-9372-d18ba7c395fc",
   "metadata": {},
   "outputs": [
    {
     "data": {
      "text/plain": [
       "array([[1, 2, 3],\n",
       "       [1, 2, 3],\n",
       "       [1, 2, 3]])"
      ]
     },
     "execution_count": 175,
     "metadata": {},
     "output_type": "execute_result"
    }
   ],
   "source": [
    "\n",
    "v1 + v2\n"
   ]
  },
  {
   "cell_type": "code",
   "execution_count": 176,
   "id": "3200f1ba-c41d-4851-8341-37d9f05f0eb8",
   "metadata": {},
   "outputs": [
    {
     "data": {
      "text/plain": [
       "array([[0, 1, 2],\n",
       "       [0, 1, 2],\n",
       "       [0, 1, 2]])"
      ]
     },
     "execution_count": 176,
     "metadata": {},
     "output_type": "execute_result"
    }
   ],
   "source": [
    "\n",
    "v1 * v2\n"
   ]
  },
  {
   "cell_type": "code",
   "execution_count": null,
   "id": "249b6294-64c6-4efe-99f9-e5d16dff8138",
   "metadata": {},
   "outputs": [],
   "source": []
  },
  {
   "cell_type": "code",
   "execution_count": null,
   "id": "9b6e3e05-2b82-412a-a743-1558447c07cd",
   "metadata": {},
   "outputs": [],
   "source": []
  },
  {
   "cell_type": "code",
   "execution_count": null,
   "id": "44527b44-cf1e-4f8b-89c0-0544833f6ac2",
   "metadata": {},
   "outputs": [],
   "source": []
  },
  {
   "cell_type": "code",
   "execution_count": null,
   "id": "b53af406-fc8c-45bb-97fa-52340c30bd7d",
   "metadata": {},
   "outputs": [],
   "source": []
  },
  {
   "cell_type": "code",
   "execution_count": null,
   "id": "935c7269-d4b3-4351-b567-3ba8ff48f046",
   "metadata": {},
   "outputs": [],
   "source": []
  },
  {
   "cell_type": "code",
   "execution_count": null,
   "id": "8fc4188d-23c7-408a-a6ab-cbbf93956304",
   "metadata": {},
   "outputs": [],
   "source": []
  },
  {
   "cell_type": "code",
   "execution_count": null,
   "id": "3baec4c9-f2fa-4f9d-a64c-bd7f449ee890",
   "metadata": {},
   "outputs": [],
   "source": []
  },
  {
   "cell_type": "code",
   "execution_count": null,
   "id": "6a1291ff-d658-4fe2-b1e7-5d2ec685d00f",
   "metadata": {},
   "outputs": [],
   "source": []
  },
  {
   "cell_type": "code",
   "execution_count": null,
   "id": "938fc487-b072-4031-bfb8-a77fa620c9f6",
   "metadata": {},
   "outputs": [],
   "source": []
  },
  {
   "cell_type": "code",
   "execution_count": null,
   "id": "fe53b62b-7b68-47c2-96ba-b3ab83f3d6d1",
   "metadata": {},
   "outputs": [],
   "source": []
  },
  {
   "cell_type": "code",
   "execution_count": null,
   "id": "c56024de-ea92-4045-bb77-c6b892b76655",
   "metadata": {},
   "outputs": [],
   "source": []
  }
 ],
 "metadata": {
  "kernelspec": {
   "display_name": "Python 3 (ipykernel)",
   "language": "python",
   "name": "python3"
  },
  "language_info": {
   "codemirror_mode": {
    "name": "ipython",
    "version": 3
   },
   "file_extension": ".py",
   "mimetype": "text/x-python",
   "name": "python",
   "nbconvert_exporter": "python",
   "pygments_lexer": "ipython3",
   "version": "3.9.18"
  }
 },
 "nbformat": 4,
 "nbformat_minor": 5
}
