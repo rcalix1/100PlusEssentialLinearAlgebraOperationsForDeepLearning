{
 "cells": [
  {
   "cell_type": "code",
   "execution_count": 338,
   "id": "e7dea9f3-2ae4-43b7-8069-905bbe4e898b",
   "metadata": {},
   "outputs": [],
   "source": [
    "\n",
    "import numpy as np\n",
    "import matplotlib.pyplot as plt \n",
    "import torch\n",
    "from torch import nn\n",
    "\n",
    "from torch.nn import functional as F\n"
   ]
  },
  {
   "cell_type": "code",
   "execution_count": null,
   "id": "751e19f7-5665-4f23-bfd7-61f731816d62",
   "metadata": {},
   "outputs": [],
   "source": []
  },
  {
   "cell_type": "code",
   "execution_count": 344,
   "id": "c1d4e236-0797-4430-8cfc-f02de9183524",
   "metadata": {},
   "outputs": [
    {
     "name": "stdout",
     "output_type": "stream",
     "text": [
      "tensor([[0.1639, 0.1418, 0.1697, 0.1783, 0.1814, 0.1649],\n",
      "        [0.1639, 0.1418, 0.1697, 0.1783, 0.1814, 0.1649],\n",
      "        [0.1639, 0.1418, 0.1697, 0.1783, 0.1814, 0.1649],\n",
      "        [0.1639, 0.1418, 0.1697, 0.1783, 0.1814, 0.1649]],\n",
      "       grad_fn=<SoftmaxBackward0>)\n",
      "torch.Size([4, 6])\n"
     ]
    }
   ],
   "source": [
    "\n",
    "\n",
    "matrix = torch.tensor( [[3., 4., 5.,3., 4., 5.,3., 4., 5.,3., 4.],\n",
    "                        [3., 4., 5.,3., 4., 5.,3., 4., 5.,3., 4.],\n",
    "                        [3., 4., 5.,3., 4., 5.,3., 4., 5.,3., 4.],\n",
    "                        [3., 4., 5.,3., 4., 5.,3., 4., 5.,3., 4.]]\n",
    "                     )\n",
    "\n",
    "\n",
    "class Deep_Neural_Net_Net(nn.Module):\n",
    "    \n",
    "    def __init__(self):\n",
    "    \n",
    "        super().__init__()\n",
    "        \n",
    "        self.linear1 = nn.Linear(11, 15)\n",
    "        self.act1    = nn.ReLU()\n",
    "        self.linear2 = nn.Linear(15, 8)\n",
    "        self.act2    = nn.ReLU()\n",
    "        self.linear3 = nn.Linear(8, 6)\n",
    "        self.act3    = nn.Softmax(dim=1)\n",
    "    \n",
    "    def forward(self, x):\n",
    "        \n",
    "        x      = self.linear1( x  )\n",
    "        x      = self.act1(    x  )\n",
    "        x      = self.linear2( x  )\n",
    "        x      = self.act2(    x  )\n",
    "        x      = self.linear3( x  )\n",
    "        y_pred = self.act3(    x  )\n",
    "        \n",
    "        return y_pred\n",
    "\n",
    "\n",
    "model = Deep_Neural_Net_Net()\n",
    "\n",
    "print( model( matrix ) )\n",
    "\n",
    "res = model( matrix )\n",
    "\n",
    "print( res.shape )\n",
    "\n",
    "\n"
   ]
  },
  {
   "cell_type": "code",
   "execution_count": null,
   "id": "20adfdce-f524-43b3-a0a5-a777632ed9b0",
   "metadata": {},
   "outputs": [],
   "source": [
    "\n",
    "\n",
    "\n",
    "\n"
   ]
  },
  {
   "cell_type": "code",
   "execution_count": null,
   "id": "4d550433-9f2f-4e0a-8870-52963c65c014",
   "metadata": {},
   "outputs": [],
   "source": []
  },
  {
   "cell_type": "code",
   "execution_count": null,
   "id": "cfcc5036-c900-493f-94ce-6d18e8987ff1",
   "metadata": {},
   "outputs": [],
   "source": []
  },
  {
   "cell_type": "code",
   "execution_count": null,
   "id": "547b22fc-afed-4a61-bf7a-9549e90e0c9f",
   "metadata": {},
   "outputs": [],
   "source": []
  },
  {
   "cell_type": "code",
   "execution_count": null,
   "id": "01bb5a72-a913-44be-87a7-d223157e581b",
   "metadata": {},
   "outputs": [],
   "source": []
  },
  {
   "cell_type": "code",
   "execution_count": null,
   "id": "f43e65ba-ff0b-47d8-9532-5a875379ddca",
   "metadata": {},
   "outputs": [],
   "source": []
  },
  {
   "cell_type": "code",
   "execution_count": null,
   "id": "3ae98bc0-85ad-4951-bef0-49f2566a9d58",
   "metadata": {},
   "outputs": [],
   "source": []
  },
  {
   "cell_type": "code",
   "execution_count": null,
   "id": "fe53b62b-7b68-47c2-96ba-b3ab83f3d6d1",
   "metadata": {},
   "outputs": [],
   "source": []
  },
  {
   "cell_type": "code",
   "execution_count": null,
   "id": "c56024de-ea92-4045-bb77-c6b892b76655",
   "metadata": {},
   "outputs": [],
   "source": []
  }
 ],
 "metadata": {
  "kernelspec": {
   "display_name": "Python 3 (ipykernel)",
   "language": "python",
   "name": "python3"
  },
  "language_info": {
   "codemirror_mode": {
    "name": "ipython",
    "version": 3
   },
   "file_extension": ".py",
   "mimetype": "text/x-python",
   "name": "python",
   "nbconvert_exporter": "python",
   "pygments_lexer": "ipython3",
   "version": "3.9.18"
  }
 },
 "nbformat": 4,
 "nbformat_minor": 5
}
