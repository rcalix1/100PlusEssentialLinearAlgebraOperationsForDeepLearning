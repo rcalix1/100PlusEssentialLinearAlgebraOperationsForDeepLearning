{
 "cells": [
  {
   "cell_type": "code",
   "execution_count": 353,
   "id": "e7dea9f3-2ae4-43b7-8069-905bbe4e898b",
   "metadata": {},
   "outputs": [],
   "source": [
    "\n",
    "import numpy as np\n",
    "import matplotlib.pyplot as plt \n",
    "import torch\n",
    "from torch import nn\n",
    "\n",
    "from torch.nn import functional as F\n"
   ]
  },
  {
   "cell_type": "code",
   "execution_count": null,
   "id": "751e19f7-5665-4f23-bfd7-61f731816d62",
   "metadata": {},
   "outputs": [],
   "source": []
  },
  {
   "cell_type": "code",
   "execution_count": 355,
   "id": "c1d4e236-0797-4430-8cfc-f02de9183524",
   "metadata": {},
   "outputs": [
    {
     "data": {
      "text/plain": [
       "tensor([-0.5492,  0.2002, -0.1931,  0.6563,  0.9010,  0.3967, -1.1989,  0.1804,\n",
       "         0.3725, -0.2679, -2.1404, -1.7772,  0.6509, -0.5298, -1.1695, -0.5079,\n",
       "        -0.7155, -0.1260,  0.9580,  0.8543, -0.8297,  0.3627, -1.3254,  0.0795,\n",
       "         0.1312,  0.8355, -0.4003,  1.3375, -1.0159, -0.3192, -0.3497,  0.5200,\n",
       "         0.2527,  1.4793, -0.8037,  0.3119, -0.6615,  0.1320, -0.5040,  0.8380,\n",
       "        -0.4797,  0.4273, -0.6878, -0.4476,  0.3797, -0.2875,  0.3512, -1.8231,\n",
       "         1.5135,  0.0524, -0.0123, -0.4104, -1.8900,  0.1324,  1.2704,  0.3461,\n",
       "         1.1150, -0.1803, -1.7329,  1.2821, -0.2784,  0.3360,  2.0494,  0.8261,\n",
       "         0.0266, -0.6956,  0.7006, -0.3486,  0.6796,  1.5179,  0.9204,  0.9474,\n",
       "        -0.5502,  0.9757, -0.3526,  0.0884, -0.3935,  0.8490,  0.1561, -1.7226,\n",
       "        -1.0913, -1.1858, -0.1119, -0.7527,  0.4028, -0.6552,  1.3689, -0.4073,\n",
       "         0.3642,  1.3568, -0.3573,  0.6873,  0.1661, -1.8654, -0.0108,  1.3372,\n",
       "        -1.1375, -2.2192, -0.0877, -0.1207])"
      ]
     },
     "execution_count": 355,
     "metadata": {},
     "output_type": "execute_result"
    }
   ],
   "source": [
    "\n",
    "\n",
    "def random_G_vector_input():\n",
    "    rand_vec = torch.randn( 100 )\n",
    "    return rand_vec\n",
    "\n",
    "random_G_vector_input()\n"
   ]
  },
  {
   "cell_type": "code",
   "execution_count": null,
   "id": "20adfdce-f524-43b3-a0a5-a777632ed9b0",
   "metadata": {},
   "outputs": [],
   "source": [
    "\n",
    "\n",
    "\n",
    "\n"
   ]
  },
  {
   "cell_type": "code",
   "execution_count": null,
   "id": "4d550433-9f2f-4e0a-8870-52963c65c014",
   "metadata": {},
   "outputs": [],
   "source": []
  },
  {
   "cell_type": "code",
   "execution_count": null,
   "id": "cfcc5036-c900-493f-94ce-6d18e8987ff1",
   "metadata": {},
   "outputs": [],
   "source": []
  },
  {
   "cell_type": "code",
   "execution_count": null,
   "id": "547b22fc-afed-4a61-bf7a-9549e90e0c9f",
   "metadata": {},
   "outputs": [],
   "source": []
  },
  {
   "cell_type": "code",
   "execution_count": null,
   "id": "01bb5a72-a913-44be-87a7-d223157e581b",
   "metadata": {},
   "outputs": [],
   "source": []
  },
  {
   "cell_type": "code",
   "execution_count": null,
   "id": "f43e65ba-ff0b-47d8-9532-5a875379ddca",
   "metadata": {},
   "outputs": [],
   "source": []
  },
  {
   "cell_type": "code",
   "execution_count": null,
   "id": "3ae98bc0-85ad-4951-bef0-49f2566a9d58",
   "metadata": {},
   "outputs": [],
   "source": []
  },
  {
   "cell_type": "code",
   "execution_count": null,
   "id": "fe53b62b-7b68-47c2-96ba-b3ab83f3d6d1",
   "metadata": {},
   "outputs": [],
   "source": []
  },
  {
   "cell_type": "code",
   "execution_count": null,
   "id": "c56024de-ea92-4045-bb77-c6b892b76655",
   "metadata": {},
   "outputs": [],
   "source": []
  }
 ],
 "metadata": {
  "kernelspec": {
   "display_name": "Python 3 (ipykernel)",
   "language": "python",
   "name": "python3"
  },
  "language_info": {
   "codemirror_mode": {
    "name": "ipython",
    "version": 3
   },
   "file_extension": ".py",
   "mimetype": "text/x-python",
   "name": "python",
   "nbconvert_exporter": "python",
   "pygments_lexer": "ipython3",
   "version": "3.9.18"
  }
 },
 "nbformat": 4,
 "nbformat_minor": 5
}
