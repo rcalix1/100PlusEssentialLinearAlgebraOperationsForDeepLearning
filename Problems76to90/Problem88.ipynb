{
 "cells": [
  {
   "cell_type": "code",
   "execution_count": 371,
   "id": "e7dea9f3-2ae4-43b7-8069-905bbe4e898b",
   "metadata": {},
   "outputs": [],
   "source": [
    "\n",
    "import numpy as np\n",
    "import matplotlib.pyplot as plt \n",
    "import torch\n",
    "from torch import nn\n",
    "import random\n",
    "\n",
    "from torch.nn import functional as F\n"
   ]
  },
  {
   "cell_type": "code",
   "execution_count": null,
   "id": "751e19f7-5665-4f23-bfd7-61f731816d62",
   "metadata": {},
   "outputs": [],
   "source": [
    "\n",
    "\n"
   ]
  },
  {
   "cell_type": "code",
   "execution_count": 372,
   "id": "c1d4e236-0797-4430-8cfc-f02de9183524",
   "metadata": {},
   "outputs": [
    {
     "name": "stdout",
     "output_type": "stream",
     "text": [
      "tensor([18, 34, 26, 74])\n",
      "tensor(291)\n",
      "tensor(182)\n",
      "tensor(484)\n",
      "tensor(473)\n",
      "tensor([[291, 206, 234,  20, 440,  34, 328, 189, 484, 154, 365, 211, 445, 357,\n",
      "         267, 235],\n",
      "        [182, 275,  74, 331, 270,   7, 482, 254, 317,  48, 469, 255, 360, 324,\n",
      "         334,  49],\n",
      "        [484, 154, 365, 211, 445, 357, 267, 235, 182, 275,  74, 331, 270,   7,\n",
      "         482, 254],\n",
      "        [473, 200, 196, 401, 141, 286, 386, 133,  33, 353, 188, 329, 263, 441,\n",
      "          51, 259]])\n",
      "tensor([[206, 234,  20, 440,  34, 328, 189, 484, 154, 365, 211, 445, 357, 267,\n",
      "         235, 182],\n",
      "        [275,  74, 331, 270,   7, 482, 254, 317,  48, 469, 255, 360, 324, 334,\n",
      "          49, 337],\n",
      "        [154, 365, 211, 445, 357, 267, 235, 182, 275,  74, 331, 270,   7, 482,\n",
      "         254, 317],\n",
      "        [200, 196, 401, 141, 286, 386, 133,  33, 353, 188, 329, 263, 441,  51,\n",
      "         259, 260]])\n"
     ]
    }
   ],
   "source": [
    "\n",
    "data =  torch.tensor( random.sample(range(1, 500), 100) )\n",
    "\n",
    "device = \"cpu\"\n",
    "\n",
    "batch_size = 4\n",
    "block_size = 16\n",
    "\n",
    "\n",
    "def get_batch():\n",
    "\n",
    "        \n",
    "    ix = torch.randint(   len(data) - block_size, (batch_size,)   )\n",
    "    \n",
    "    x  = torch.stack(    [  data[   i : i+block_size ]     for i in ix ]    ) \n",
    "    y  = torch.stack(    [  data[ i+1 : i+1+block_size ]   for i in ix ]    )\n",
    "    \n",
    "    x, y = x.to(device), y.to(device)\n",
    "\n",
    "    return x, y\n",
    "\n",
    "get_batch()\n",
    "\n",
    "##### or\n",
    "\n",
    "temp_batch_size = 4\n",
    "temp_block_size = 16\n",
    "\n",
    "## select random starting points for the 4 sentences\n",
    "ix = torch.randint(   \n",
    "            len(data) - temp_block_size, \n",
    "            (temp_batch_size,)   \n",
    ")\n",
    "\n",
    "print( ix )\n",
    "\n",
    "\n",
    "for index_temp in ix:\n",
    "    print(  data[index_temp]  )\n",
    "\n",
    "\n",
    "\n",
    "x  = torch.stack(    \n",
    "    [ data[   i : i+  temp_block_size ]   for i in ix ] \n",
    "    \n",
    ") \n",
    "\n",
    "y  = torch.stack(    \n",
    "    [ data[ i+1 : i+1+ temp_block_size ]  for i in ix ]    \n",
    ")\n",
    "\n",
    "print(x)\n",
    "print(y)\n",
    "\n"
   ]
  },
  {
   "cell_type": "code",
   "execution_count": null,
   "id": "20adfdce-f524-43b3-a0a5-a777632ed9b0",
   "metadata": {},
   "outputs": [],
   "source": [
    "\n",
    "\n",
    "\n",
    "\n"
   ]
  },
  {
   "cell_type": "code",
   "execution_count": null,
   "id": "4d550433-9f2f-4e0a-8870-52963c65c014",
   "metadata": {},
   "outputs": [],
   "source": []
  },
  {
   "cell_type": "code",
   "execution_count": null,
   "id": "cfcc5036-c900-493f-94ce-6d18e8987ff1",
   "metadata": {},
   "outputs": [],
   "source": []
  },
  {
   "cell_type": "code",
   "execution_count": null,
   "id": "547b22fc-afed-4a61-bf7a-9549e90e0c9f",
   "metadata": {},
   "outputs": [],
   "source": []
  },
  {
   "cell_type": "code",
   "execution_count": null,
   "id": "01bb5a72-a913-44be-87a7-d223157e581b",
   "metadata": {},
   "outputs": [],
   "source": []
  },
  {
   "cell_type": "code",
   "execution_count": null,
   "id": "f43e65ba-ff0b-47d8-9532-5a875379ddca",
   "metadata": {},
   "outputs": [],
   "source": []
  },
  {
   "cell_type": "code",
   "execution_count": null,
   "id": "3ae98bc0-85ad-4951-bef0-49f2566a9d58",
   "metadata": {},
   "outputs": [],
   "source": []
  },
  {
   "cell_type": "code",
   "execution_count": null,
   "id": "fe53b62b-7b68-47c2-96ba-b3ab83f3d6d1",
   "metadata": {},
   "outputs": [],
   "source": []
  },
  {
   "cell_type": "code",
   "execution_count": null,
   "id": "c56024de-ea92-4045-bb77-c6b892b76655",
   "metadata": {},
   "outputs": [],
   "source": []
  }
 ],
 "metadata": {
  "kernelspec": {
   "display_name": "Python 3 (ipykernel)",
   "language": "python",
   "name": "python3"
  },
  "language_info": {
   "codemirror_mode": {
    "name": "ipython",
    "version": 3
   },
   "file_extension": ".py",
   "mimetype": "text/x-python",
   "name": "python",
   "nbconvert_exporter": "python",
   "pygments_lexer": "ipython3",
   "version": "3.9.18"
  }
 },
 "nbformat": 4,
 "nbformat_minor": 5
}
