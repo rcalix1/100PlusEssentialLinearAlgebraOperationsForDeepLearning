{
 "cells": [
  {
   "cell_type": "code",
   "execution_count": 5,
   "id": "0da516e7-e279-4793-a508-7463b8c2b450",
   "metadata": {},
   "outputs": [],
   "source": [
    "\n",
    "from PIL import Image\n",
    "\n",
    "import numpy as np\n",
    "import matplotlib.pyplot as plt \n",
    "import torch\n"
   ]
  },
  {
   "cell_type": "code",
   "execution_count": 48,
   "id": "907837f9-2eaa-4649-b739-47ad4d555f35",
   "metadata": {},
   "outputs": [],
   "source": [
    "\n",
    "import numpy as np\n",
    "import matplotlib.pyplot as plt \n",
    "import torch\n",
    "from torch import nn\n",
    "\n",
    "from torch.nn import functional as F\n"
   ]
  },
  {
   "cell_type": "code",
   "execution_count": 6,
   "id": "b8946545-d7e2-421c-9884-12723fb3d447",
   "metadata": {},
   "outputs": [
    {
     "name": "stdout",
     "output_type": "stream",
     "text": [
      "[4 5 2 6 8]\n"
     ]
    }
   ],
   "source": [
    "\n",
    "a = np.array(   [4,5,2,6,8]    ) \n",
    "print(a)\n"
   ]
  },
  {
   "cell_type": "code",
   "execution_count": null,
   "id": "4e3e9802-02e3-4909-9957-acfe4ba60456",
   "metadata": {},
   "outputs": [],
   "source": [
    "\n",
    "\n"
   ]
  },
  {
   "cell_type": "code",
   "execution_count": 8,
   "id": "9c10f7c1-6c3b-493a-aaca-2e6f67facb7d",
   "metadata": {},
   "outputs": [
    {
     "name": "stdout",
     "output_type": "stream",
     "text": [
      "[[ 1  2  3  4]\n",
      " [ 5  6  7  8]\n",
      " [ 9 10 11 12]]\n"
     ]
    }
   ],
   "source": [
    "\n",
    "list_of_lists = [[1, 2, 3, 4], \n",
    "                 [5, 6, 7, 8] ,\n",
    "                 [9, 10, 11, 12]]\n",
    "\n",
    "b = np.array(list_of_lists) \n",
    "\n",
    "print(b)\n"
   ]
  },
  {
   "cell_type": "code",
   "execution_count": 13,
   "id": "54826f7a-b6b5-4bbe-958d-a7fc3280377d",
   "metadata": {},
   "outputs": [
    {
     "data": {
      "text/plain": [
       "array([[ 1,  2,  3],\n",
       "       [ 5,  6,  7],\n",
       "       [ 9, 10, 11]])"
      ]
     },
     "execution_count": 13,
     "metadata": {},
     "output_type": "execute_result"
    }
   ],
   "source": [
    "\n",
    "X = b[:, :3]\n",
    "\n",
    "X\n"
   ]
  },
  {
   "cell_type": "code",
   "execution_count": 14,
   "id": "296b6156-b8a7-4aec-be32-f3255279b711",
   "metadata": {},
   "outputs": [
    {
     "data": {
      "text/plain": [
       "(3, 3)"
      ]
     },
     "execution_count": 14,
     "metadata": {},
     "output_type": "execute_result"
    }
   ],
   "source": [
    "\n",
    "X.shape\n"
   ]
  },
  {
   "cell_type": "code",
   "execution_count": 17,
   "id": "afac9552-5ac3-46cf-b858-908abfbc02ce",
   "metadata": {},
   "outputs": [
    {
     "data": {
      "text/plain": [
       "array([ 4,  8, 12])"
      ]
     },
     "execution_count": 17,
     "metadata": {},
     "output_type": "execute_result"
    }
   ],
   "source": [
    "\n",
    "y = b[:, 3]\n",
    "\n",
    "y\n"
   ]
  },
  {
   "cell_type": "code",
   "execution_count": null,
   "id": "f203e311-ff5d-42c7-8fb8-8b221d2b0259",
   "metadata": {},
   "outputs": [],
   "source": []
  },
  {
   "cell_type": "markdown",
   "id": "3b92be1b-b26f-458d-9aa4-d61c46f4768f",
   "metadata": {},
   "source": [
    "\n",
    "## Problem 34\n"
   ]
  },
  {
   "cell_type": "code",
   "execution_count": 22,
   "id": "32ddbc98-35c8-4140-a995-159aeecf3e1c",
   "metadata": {},
   "outputs": [
    {
     "name": "stdout",
     "output_type": "stream",
     "text": [
      "tensor([1., 1., 1., 1., 1.])\n"
     ]
    }
   ],
   "source": [
    "\n",
    "a_tr = torch.ones(5)\n",
    "print( a_tr )\n"
   ]
  },
  {
   "cell_type": "code",
   "execution_count": 23,
   "id": "2c49110c-1de3-47ec-8ec2-fabf128ec48e",
   "metadata": {},
   "outputs": [],
   "source": [
    "\n",
    "a_tr[2]  =  1456.0\n"
   ]
  },
  {
   "cell_type": "code",
   "execution_count": 24,
   "id": "97bc4eb0-b8e7-48ef-81a3-7fc6189a732f",
   "metadata": {},
   "outputs": [
    {
     "name": "stdout",
     "output_type": "stream",
     "text": [
      "tensor([1.0000e+00, 1.0000e+00, 1.4560e+03, 1.0000e+00, 1.0000e+00])\n"
     ]
    }
   ],
   "source": [
    "\n",
    "print(  a_tr  )\n"
   ]
  },
  {
   "cell_type": "code",
   "execution_count": 29,
   "id": "a275703b-a4c2-4e7b-adc3-4f325e49076c",
   "metadata": {},
   "outputs": [
    {
     "data": {
      "text/plain": [
       "torch.Size([60000, 784])"
      ]
     },
     "execution_count": 29,
     "metadata": {},
     "output_type": "execute_result"
    }
   ],
   "source": [
    "\n",
    "a_tr = torch.ones( (60000, 784) )\n",
    "a_tr.shape\n"
   ]
  },
  {
   "cell_type": "code",
   "execution_count": null,
   "id": "408c1462-fb6c-47cf-8215-d35abb6c92bc",
   "metadata": {},
   "outputs": [],
   "source": []
  },
  {
   "cell_type": "code",
   "execution_count": null,
   "id": "b94981fb-5090-4c7a-8c28-189110ab9e48",
   "metadata": {},
   "outputs": [],
   "source": [
    "\n",
    "(1)(1) + (-4)(3) + (5)(-5) = -36\n",
    "(2)(1) + (3)(3)  + (-6)(-5) = 41\n"
   ]
  },
  {
   "cell_type": "code",
   "execution_count": null,
   "id": "7810b425-7640-4ddd-95eb-4a7b752b4313",
   "metadata": {},
   "outputs": [],
   "source": []
  },
  {
   "cell_type": "markdown",
   "id": "5dd08d3b-7a65-4a7a-b37b-550634147a43",
   "metadata": {},
   "source": [
    "\n",
    "## Problem 37\n"
   ]
  },
  {
   "cell_type": "code",
   "execution_count": 32,
   "id": "0637f8a9-702a-4eb8-9679-4c6aa93aef5d",
   "metadata": {},
   "outputs": [
    {
     "data": {
      "text/plain": [
       "torch.Size([150, 4])"
      ]
     },
     "execution_count": 32,
     "metadata": {},
     "output_type": "execute_result"
    }
   ],
   "source": [
    "\n",
    "x = torch.randn( 150, 4 )\n",
    "\n",
    "x.shape\n"
   ]
  },
  {
   "cell_type": "code",
   "execution_count": 33,
   "id": "6cc9d3db-638e-42f6-8825-c6e110cc0917",
   "metadata": {},
   "outputs": [
    {
     "name": "stdout",
     "output_type": "stream",
     "text": [
      "torch.Size([4, 6])\n"
     ]
    }
   ],
   "source": [
    "\n",
    "w = torch.randn( 4, 6 )\n",
    "\n",
    "print( w.shape )\n"
   ]
  },
  {
   "cell_type": "code",
   "execution_count": 34,
   "id": "f72475af-dc31-4b3e-a4f1-d31e8f8ac7a9",
   "metadata": {},
   "outputs": [],
   "source": [
    "\n",
    "h1 = torch.matmul(  x, w  ) \n"
   ]
  },
  {
   "cell_type": "code",
   "execution_count": 35,
   "id": "50bab123-8540-4d61-9d20-a20a44457ee9",
   "metadata": {},
   "outputs": [
    {
     "name": "stdout",
     "output_type": "stream",
     "text": [
      "torch.Size([150, 6])\n"
     ]
    }
   ],
   "source": [
    "\n",
    "print( h1.shape ) \n"
   ]
  },
  {
   "cell_type": "code",
   "execution_count": null,
   "id": "7e1c6ad1-8fdd-44a7-8e0c-601576b62a43",
   "metadata": {},
   "outputs": [],
   "source": []
  },
  {
   "cell_type": "code",
   "execution_count": 39,
   "id": "639ea6a4-fd67-4089-9139-69e5ba890843",
   "metadata": {},
   "outputs": [
    {
     "data": {
      "text/plain": [
       "numpy.ndarray"
      ]
     },
     "execution_count": 39,
     "metadata": {},
     "output_type": "execute_result"
    }
   ],
   "source": [
    "\n",
    "a = np.array( [10, 20, 30] )\n",
    "type(a)\n",
    "\n"
   ]
  },
  {
   "cell_type": "code",
   "execution_count": null,
   "id": "623cac14-9316-415f-bbb7-d8f63fe6a48f",
   "metadata": {},
   "outputs": [],
   "source": []
  },
  {
   "cell_type": "code",
   "execution_count": null,
   "id": "bff4f692-27c3-4006-a446-c5de16f832db",
   "metadata": {},
   "outputs": [],
   "source": []
  },
  {
   "cell_type": "code",
   "execution_count": 40,
   "id": "0fb7b165-5c3f-4673-a478-168d5b229ba6",
   "metadata": {},
   "outputs": [
    {
     "data": {
      "text/plain": [
       "torch.Tensor"
      ]
     },
     "execution_count": 40,
     "metadata": {},
     "output_type": "execute_result"
    }
   ],
   "source": [
    "\n",
    "a_t = torch.from_numpy( a )\n",
    "type( a_t  )\n"
   ]
  },
  {
   "cell_type": "markdown",
   "id": "e44c651e-c2e8-420c-9ec4-5b8a5d4d7f98",
   "metadata": {},
   "source": [
    "\n",
    "## Problem 57\n"
   ]
  },
  {
   "cell_type": "code",
   "execution_count": 44,
   "id": "11c9b2d8-801b-4eaa-abe1-d71073a1f686",
   "metadata": {},
   "outputs": [],
   "source": [
    "\n",
    "a = torch.tensor ( [10] )\n",
    "\n",
    "b = torch.tensor ( [32] )\n",
    "\n"
   ]
  },
  {
   "cell_type": "code",
   "execution_count": 45,
   "id": "8df51d27-5613-44f2-ad28-8e153b3133f6",
   "metadata": {},
   "outputs": [],
   "source": [
    "\n",
    "def model( a, b ):\n",
    "    return a + b\n",
    "\n"
   ]
  },
  {
   "cell_type": "code",
   "execution_count": null,
   "id": "bf4f6dd0-d2d9-4ae1-b6bc-1e8122295e77",
   "metadata": {},
   "outputs": [],
   "source": []
  },
  {
   "cell_type": "code",
   "execution_count": null,
   "id": "3c6c0023-c587-43d6-b609-1137c2889486",
   "metadata": {},
   "outputs": [],
   "source": []
  },
  {
   "cell_type": "code",
   "execution_count": 46,
   "id": "5b255f89-1d12-4048-ad31-9273a445d372",
   "metadata": {},
   "outputs": [],
   "source": [
    "\n",
    "res = model(a, b)\n"
   ]
  },
  {
   "cell_type": "code",
   "execution_count": null,
   "id": "f6a5bca4-d81e-4d06-a05f-881f39a8962d",
   "metadata": {},
   "outputs": [],
   "source": []
  },
  {
   "cell_type": "code",
   "execution_count": 47,
   "id": "7888f1b3-9d2f-4536-aa97-94e42b2555b9",
   "metadata": {},
   "outputs": [
    {
     "data": {
      "text/plain": [
       "tensor([42])"
      ]
     },
     "execution_count": 47,
     "metadata": {},
     "output_type": "execute_result"
    }
   ],
   "source": [
    "\n",
    "res\n"
   ]
  },
  {
   "cell_type": "code",
   "execution_count": null,
   "id": "1c4574a7-a4c7-4516-a560-80223085a54c",
   "metadata": {},
   "outputs": [],
   "source": []
  },
  {
   "cell_type": "code",
   "execution_count": null,
   "id": "fa47fe23-b284-42a9-a796-b38fb0781ce8",
   "metadata": {},
   "outputs": [],
   "source": [
    "\n",
    "[56]\n"
   ]
  },
  {
   "cell_type": "code",
   "execution_count": null,
   "id": "283a1362-df7b-4372-ba76-74f9eaf9fc71",
   "metadata": {},
   "outputs": [],
   "source": [
    "\n",
    "[ 45, 23, 43, 17]\n"
   ]
  },
  {
   "cell_type": "code",
   "execution_count": null,
   "id": "88c1f857-7a41-4d32-9327-7d6639dffd96",
   "metadata": {},
   "outputs": [],
   "source": [
    "\n",
    "[[ 34, 45, 6],\n",
    " [ 34, 23, 3],\n",
    " [ 30, 15, 2]]\n"
   ]
  },
  {
   "cell_type": "markdown",
   "id": "b577b932-79e7-4046-9d7d-bda97c5f74f0",
   "metadata": {},
   "source": [
    "\n",
    "## Regression\n"
   ]
  },
  {
   "cell_type": "code",
   "execution_count": 54,
   "id": "686b4727-3d49-4507-9af2-4e6bc6919526",
   "metadata": {},
   "outputs": [],
   "source": [
    "\n",
    "\n",
    "class LinRegNet( nn.Module ):\n",
    "    \n",
    "    def __init__(self):\n",
    "        super().__init__() \n",
    "        self.linear1 = nn.Linear(4, 1)\n",
    "\n",
    "        ## x * w + b\n",
    "    \n",
    "    def forward(self, x):\n",
    "        y_pred = self.linear1(x)\n",
    "        return y_pred\n",
    "\n",
    "    def generate(self):\n",
    "        return\n",
    "\n",
    "\n"
   ]
  },
  {
   "cell_type": "code",
   "execution_count": null,
   "id": "6bde843a-fc5b-4712-b3fe-6d141b979bc8",
   "metadata": {},
   "outputs": [],
   "source": []
  },
  {
   "cell_type": "code",
   "execution_count": null,
   "id": "319cc08e-d206-4902-bb5d-be9928055f6d",
   "metadata": {},
   "outputs": [],
   "source": []
  },
  {
   "cell_type": "code",
   "execution_count": 55,
   "id": "b5c1b31c-bddd-477f-aa47-21a2ae66097f",
   "metadata": {},
   "outputs": [],
   "source": [
    "\n",
    "model = LinRegNet()\n",
    "\n",
    "\n"
   ]
  },
  {
   "cell_type": "code",
   "execution_count": 56,
   "id": "06d270c2-057f-4907-81fd-3226ac007412",
   "metadata": {},
   "outputs": [
    {
     "data": {
      "text/plain": [
       "LinRegNet(\n",
       "  (linear1): Linear(in_features=4, out_features=1, bias=True)\n",
       ")"
      ]
     },
     "execution_count": 56,
     "metadata": {},
     "output_type": "execute_result"
    }
   ],
   "source": [
    "\n",
    "model\n"
   ]
  },
  {
   "cell_type": "code",
   "execution_count": 57,
   "id": "e420294f-4fa5-4ecf-80fb-c89f00157a38",
   "metadata": {},
   "outputs": [
    {
     "data": {
      "text/plain": [
       "tensor([3., 4., 5., 7.])"
      ]
     },
     "execution_count": 57,
     "metadata": {},
     "output_type": "execute_result"
    }
   ],
   "source": [
    "\n",
    "vec = torch.tensor( [3., 4., 5., 7. ]  )\n",
    "vec\n"
   ]
  },
  {
   "cell_type": "code",
   "execution_count": 58,
   "id": "501b0f10-95ec-401b-9028-64279e75c257",
   "metadata": {},
   "outputs": [
    {
     "data": {
      "text/plain": [
       "tensor([1.3319], grad_fn=<ViewBackward0>)"
      ]
     },
     "execution_count": 58,
     "metadata": {},
     "output_type": "execute_result"
    }
   ],
   "source": [
    "\n",
    "y_pred = model( vec )\n",
    "y_pred\n"
   ]
  },
  {
   "cell_type": "code",
   "execution_count": null,
   "id": "c34ec8b5-5cb2-4673-bbf1-268cb1b00a38",
   "metadata": {},
   "outputs": [],
   "source": []
  },
  {
   "cell_type": "code",
   "execution_count": null,
   "id": "7f1c769f-ac8e-401c-9c35-f2084b4e50ac",
   "metadata": {},
   "outputs": [],
   "source": [
    "\n",
    "## \n"
   ]
  },
  {
   "cell_type": "code",
   "execution_count": null,
   "id": "c5097dcd-4238-4193-8023-7c0f421c4a80",
   "metadata": {},
   "outputs": [],
   "source": [
    "\n",
    "\n",
    "\n",
    "\n"
   ]
  },
  {
   "cell_type": "code",
   "execution_count": null,
   "id": "f55ef1a5-b720-4422-8753-69e3c884833d",
   "metadata": {},
   "outputs": [],
   "source": []
  },
  {
   "cell_type": "code",
   "execution_count": null,
   "id": "55a1712b-d828-4f38-a758-9497ae0c4b1b",
   "metadata": {},
   "outputs": [],
   "source": []
  },
  {
   "cell_type": "code",
   "execution_count": null,
   "id": "f7eb3aa0-9874-450a-8a4b-14ee0b49bf2f",
   "metadata": {},
   "outputs": [],
   "source": [
    "\n",
    "class Logistic_Regression_Net(nn.Module):\n",
    "    \n",
    "    def __init__( self ) :\n",
    "        super().__init__ ()\n",
    "        \n",
    "        self. inear1 = nn.Linear(4 , 3)\n",
    "        \n",
    "        self.act1 = nn.Softmax(dim=1)\n",
    "\n",
    "    def forward(self , x):\n",
    "        x = self.linear1(x) \n",
    "        y_pred = self.act1( x )\n",
    "        return y_pred\n"
   ]
  },
  {
   "cell_type": "code",
   "execution_count": null,
   "id": "3a26458e-8667-42e3-a004-1053b1ad3bf2",
   "metadata": {},
   "outputs": [],
   "source": [
    "\n",
    "[ 0.8, 0.7, 0.6]\n",
    "\n",
    "[ 0.5, 0.3 , 0.2]\n"
   ]
  },
  {
   "cell_type": "code",
   "execution_count": null,
   "id": "37559da9-0d58-4e6a-9751-1d660e6c05ec",
   "metadata": {},
   "outputs": [],
   "source": [
    "\n",
    "[ 0, 1, 0]\n"
   ]
  },
  {
   "cell_type": "code",
   "execution_count": null,
   "id": "0926cc8e-3ad6-49a2-af38-bd7c321b7d28",
   "metadata": {},
   "outputs": [],
   "source": []
  },
  {
   "cell_type": "code",
   "execution_count": null,
   "id": "e230a3bf-1a46-434f-9b10-fe2f13546a06",
   "metadata": {},
   "outputs": [],
   "source": [
    "\n",
    "[-34, 567 ]\n",
    "\n",
    "\n",
    "[ 0.1, 0.6 ] ]"
   ]
  },
  {
   "cell_type": "code",
   "execution_count": null,
   "id": "3ebec846-3d8c-4ae1-8b11-f9df5599106e",
   "metadata": {},
   "outputs": [],
   "source": []
  },
  {
   "cell_type": "code",
   "execution_count": null,
   "id": "21e39e7a-c9cf-4104-8ba8-60a956e28b42",
   "metadata": {},
   "outputs": [],
   "source": []
  },
  {
   "cell_type": "code",
   "execution_count": null,
   "id": "d114a282-217c-46a6-b8de-75b1f27c8d7f",
   "metadata": {},
   "outputs": [],
   "source": []
  },
  {
   "cell_type": "code",
   "execution_count": null,
   "id": "96f952f7-4cfd-48a0-951a-53261850cf96",
   "metadata": {},
   "outputs": [],
   "source": []
  },
  {
   "cell_type": "code",
   "execution_count": null,
   "id": "d0935a1d-97cd-44da-b069-efb4edd214c4",
   "metadata": {},
   "outputs": [],
   "source": []
  },
  {
   "cell_type": "code",
   "execution_count": null,
   "id": "063af1cc-3c1e-4a1b-8c32-f84e66426e8d",
   "metadata": {},
   "outputs": [],
   "source": []
  }
 ],
 "metadata": {
  "kernelspec": {
   "display_name": "Python 3 (ipykernel)",
   "language": "python",
   "name": "python3"
  },
  "language_info": {
   "codemirror_mode": {
    "name": "ipython",
    "version": 3
   },
   "file_extension": ".py",
   "mimetype": "text/x-python",
   "name": "python",
   "nbconvert_exporter": "python",
   "pygments_lexer": "ipython3",
   "version": "3.9.20"
  }
 },
 "nbformat": 4,
 "nbformat_minor": 5
}
